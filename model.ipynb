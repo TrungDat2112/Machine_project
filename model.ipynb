{
 "cells": [
  {
   "cell_type": "code",
   "execution_count": 14,
   "metadata": {},
   "outputs": [],
   "source": [
    "import pandas as pd\n",
    "\n",
    "data_with_filla = pd.read_csv('ev_charging_patterns.csv')  \n",
    "\n",
    "energy_trungvi = data_with_filla['Energy Consumed (kWh)'].median()\n",
    "data_with_filla['Energy Consumed (kWh)'] = data_with_filla['Energy Consumed (kWh)'].fillna(energy_trungvi)\n",
    "chargingrate_trungvi = data_with_filla['Charging Rate (kW)'].median()\n",
    "data_with_filla['Charging Rate (kW)'] = data_with_filla['Charging Rate (kW)'].fillna(chargingrate_trungvi)\n",
    "distance_trungvi = data_with_filla['Distance Driven (since last charge) (km)'].median()\n",
    "data_with_filla['Distance Driven (since last charge) (km)'] = data_with_filla['Distance Driven (since last charge) (km)'].fillna(distance_trungvi)"
   ]
  },
  {
   "cell_type": "code",
   "execution_count": 15,
   "metadata": {},
   "outputs": [
    {
     "name": "stdout",
     "output_type": "stream",
     "text": [
      "<class 'pandas.core.frame.DataFrame'>\n",
      "RangeIndex: 1320 entries, 0 to 1319\n",
      "Data columns (total 20 columns):\n",
      " #   Column                                    Non-Null Count  Dtype  \n",
      "---  ------                                    --------------  -----  \n",
      " 0   User ID                                   1320 non-null   object \n",
      " 1   Vehicle Model                             1320 non-null   object \n",
      " 2   Battery Capacity (kWh)                    1320 non-null   float64\n",
      " 3   Charging Station ID                       1320 non-null   object \n",
      " 4   Charging Station Location                 1320 non-null   object \n",
      " 5   Charging Start Time                       1320 non-null   object \n",
      " 6   Charging End Time                         1320 non-null   object \n",
      " 7   Energy Consumed (kWh)                     1320 non-null   float64\n",
      " 8   Charging Duration (hours)                 1320 non-null   float64\n",
      " 9   Charging Rate (kW)                        1320 non-null   float64\n",
      " 10  Charging Cost (USD)                       1320 non-null   float64\n",
      " 11  Time of Day                               1320 non-null   object \n",
      " 12  Day of Week                               1320 non-null   object \n",
      " 13  State of Charge (Start %)                 1320 non-null   float64\n",
      " 14  State of Charge (End %)                   1320 non-null   float64\n",
      " 15  Distance Driven (since last charge) (km)  1320 non-null   float64\n",
      " 16  Temperature (°C)                          1320 non-null   float64\n",
      " 17  Vehicle Age (years)                       1320 non-null   float64\n",
      " 18  Charger Type                              1320 non-null   object \n",
      " 19  User Type                                 1320 non-null   object \n",
      "dtypes: float64(10), object(10)\n",
      "memory usage: 206.4+ KB\n"
     ]
    }
   ],
   "source": [
    "data_with_filla.info()"
   ]
  },
  {
   "cell_type": "code",
   "execution_count": 16,
   "metadata": {},
   "outputs": [
    {
     "name": "stdout",
     "output_type": "stream",
     "text": [
      "<class 'pandas.core.frame.DataFrame'>\n",
      "Index: 1131 entries, 0 to 1319\n",
      "Data columns (total 20 columns):\n",
      " #   Column                                    Non-Null Count  Dtype  \n",
      "---  ------                                    --------------  -----  \n",
      " 0   User ID                                   1131 non-null   object \n",
      " 1   Vehicle Model                             1131 non-null   object \n",
      " 2   Battery Capacity (kWh)                    1131 non-null   float64\n",
      " 3   Charging Station ID                       1131 non-null   object \n",
      " 4   Charging Station Location                 1131 non-null   object \n",
      " 5   Charging Start Time                       1131 non-null   object \n",
      " 6   Charging End Time                         1131 non-null   object \n",
      " 7   Energy Consumed (kWh)                     1131 non-null   float64\n",
      " 8   Charging Duration (hours)                 1131 non-null   float64\n",
      " 9   Charging Rate (kW)                        1131 non-null   float64\n",
      " 10  Charging Cost (USD)                       1131 non-null   float64\n",
      " 11  Time of Day                               1131 non-null   object \n",
      " 12  Day of Week                               1131 non-null   object \n",
      " 13  State of Charge (Start %)                 1131 non-null   float64\n",
      " 14  State of Charge (End %)                   1131 non-null   float64\n",
      " 15  Distance Driven (since last charge) (km)  1131 non-null   float64\n",
      " 16  Temperature (°C)                          1131 non-null   float64\n",
      " 17  Vehicle Age (years)                       1131 non-null   float64\n",
      " 18  Charger Type                              1131 non-null   object \n",
      " 19  User Type                                 1131 non-null   object \n",
      "dtypes: float64(10), object(10)\n",
      "memory usage: 185.6+ KB\n"
     ]
    }
   ],
   "source": [
    "data = pd.read_csv('ev_charging_patterns.csv')\n",
    "data_drop = data.dropna()\n",
    "data_drop.info()"
   ]
  },
  {
   "cell_type": "code",
   "execution_count": 17,
   "metadata": {},
   "outputs": [],
   "source": [
    "inputs_with_filla = data_with_filla[['Battery Capacity (kWh)', 'Charging Duration (hours)', 'Charging Rate (kW)', \n",
    "                 'Distance Driven (since last charge) (km)', 'Temperature (°C)', 'Vehicle Age (years)']]\n",
    "output_with_filla = data_with_filla['Energy Consumed (kWh)']\n",
    "\n",
    "inputs_drop = data_drop[['Battery Capacity (kWh)', 'Charging Duration (hours)', 'Charging Rate (kW)', \n",
    "                 'Distance Driven (since last charge) (km)', 'Temperature (°C)', 'Vehicle Age (years)']]\n",
    "output_drop = data_drop['Energy Consumed (kWh)']"
   ]
  },
  {
   "cell_type": "code",
   "execution_count": 18,
   "metadata": {},
   "outputs": [],
   "source": [
    "# inputs_filla_encoded = pd.get_dummies(inputs_with_filla, columns=['Vehicle Model', 'User Type'])\n",
    "# inputs_drop_encoded = pd.get_dummies(inputs_drop, columns=['Vehicle Model', 'User Type'])"
   ]
  },
  {
   "cell_type": "code",
   "execution_count": 19,
   "metadata": {},
   "outputs": [],
   "source": [
    "# inputs_filla_encoded.info()"
   ]
  },
  {
   "cell_type": "code",
   "execution_count": 20,
   "metadata": {},
   "outputs": [],
   "source": [
    "from sklearn.model_selection import train_test_split\n",
    "from sklearn.linear_model import LinearRegression\n",
    "from sklearn.metrics import mean_squared_error\n",
    "from sklearn.preprocessing import StandardScaler\n",
    "from sklearn.metrics import mean_squared_error, mean_absolute_error, r2_score\n",
    "scaler = StandardScaler()\n",
    "X_filla = scaler.fit_transform(inputs_with_filla)\n",
    "X_drop = scaler.fit_transform(inputs_drop)\n",
    "X_train_filla, X_test_filla, y_train_filla, y_test_filla = train_test_split(X_filla, output_with_filla, test_size=0.2, random_state=42)\n",
    "X_train_drop, X_test_drop, y_train_drop, y_test_drop = train_test_split(X_drop, output_drop, test_size=0.2, random_state=42)\n"
   ]
  },
  {
   "cell_type": "code",
   "execution_count": null,
   "metadata": {},
   "outputs": [
    {
     "name": "stdout",
     "output_type": "stream",
     "text": [
      "Random Forest Mean Squared Error (MSE): 501.3116239953953\n",
      "Random Forest Root Mean Squared Error (RMSE): 22.389989370149223\n",
      "Random Forest Mean Absolute Error (MAE): 18.473146066329225\n",
      "Random Forest R-squared (R²): -0.010566662694691642\n",
      "Coefficients: [-0.27431315  0.5023404  -1.13710213 -0.64981754 -0.39238926  0.38796088]\n",
      "Intercept: 42.319477681802006\n"
     ]
    }
   ],
   "source": [
    "model = LinearRegression()\n",
    "model.fit(X_train_filla, y_train_filla)\n",
    "\n",
    "y_pred_filla = model.predict(X_test_filla)\n",
    "\n",
    "mse = mean_squared_error(y_test_filla, y_pred_filla)\n",
    "rmse = mse**0.5\n",
    "mae = mean_absolute_error(y_test_filla, y_pred_filla)\n",
    "r2 = r2_score(y_test_filla, y_pred_filla)\n",
    "print(f\"Linear Regression Mean Squared Error (MSE): {mse}\")\n",
    "print(f\"Linear Regression Root Mean Squared Error (RMSE): {rmse}\")\n",
    "print(f\"Linear Regression Mean Absolute Error (MAE): {mae}\")\n",
    "print(f\"Linear Regression R-squared (R²): {r2}\")\n",
    "print(f\"Coefficients: {model.coef_}\")\n",
    "print(f\"Intercept: {model.intercept_}\")"
   ]
  },
  {
   "cell_type": "code",
   "execution_count": 22,
   "metadata": {},
   "outputs": [
    {
     "name": "stdout",
     "output_type": "stream",
     "text": [
      "Random Forest Mean Squared Error (MSE): 529.3280709940901\n",
      "Random Forest Root Mean Squared Error (RMSE): 23.007130872711837\n",
      "Random Forest Mean Absolute Error (MAE): 19.092931909051167\n",
      "Random Forest R-squared (R²): -0.011528651928896405\n",
      "Coefficients: [ 0.73770773  1.37481341 -0.5997328  -0.60039264 -0.32610104 -0.26425499]\n",
      "Intercept: 42.57481568546102\n"
     ]
    }
   ],
   "source": [
    "model = LinearRegression()\n",
    "model.fit(X_train_drop, y_train_drop)\n",
    "\n",
    "y_pred_drop = model.predict(X_test_drop)\n",
    "\n",
    "mse = mean_squared_error(y_test_drop, y_pred_drop)\n",
    "rmse = mse**0.5\n",
    "mae = mean_absolute_error(y_test_drop, y_pred_drop)\n",
    "r2 = r2_score(y_test_drop, y_pred_drop)\n",
    "\n",
    "print(f\"Random Forest Mean Squared Error (MSE): {mse}\")\n",
    "print(f\"Random Forest Root Mean Squared Error (RMSE): {rmse}\")\n",
    "print(f\"Random Forest Mean Absolute Error (MAE): {mae}\")\n",
    "print(f\"Random Forest R-squared (R²): {r2}\")\n",
    "print(f\"Coefficients: {model.coef_}\")\n",
    "print(f\"Intercept: {model.intercept_}\")"
   ]
  },
  {
   "cell_type": "code",
   "execution_count": 23,
   "metadata": {},
   "outputs": [
    {
     "name": "stdout",
     "output_type": "stream",
     "text": [
      "Random Forest Mean Squared Error (MSE): 523.4989324724887\n",
      "Random Forest Root Mean Squared Error (RMSE): 22.88009904857251\n",
      "Random Forest Mean Absolute Error (MAE): 18.84261582216346\n",
      "Random Forest R-squared (R²): -0.055292843394782354\n",
      "Coefficients: [ 0.73770773  1.37481341 -0.5997328  -0.60039264 -0.32610104 -0.26425499]\n",
      "Intercept: 42.57481568546102\n"
     ]
    }
   ],
   "source": [
    "from sklearn.ensemble import RandomForestRegressor\n",
    "rf_model = RandomForestRegressor(n_estimators=100, random_state=42)\n",
    "\n",
    "rf_model.fit(X_train_filla, y_train_filla)\n",
    "\n",
    "y_pred_filla = rf_model.predict(X_test_filla)\n",
    "\n",
    "mse = mean_squared_error(y_test_filla, y_pred_filla)\n",
    "rmse = mse**0.5\n",
    "mae = mean_absolute_error(y_test_filla, y_pred_filla)\n",
    "r2 = r2_score(y_test_filla, y_pred_filla)\n",
    "\n",
    "print(f\"Random Forest Mean Squared Error (MSE): {mse}\")\n",
    "print(f\"Random Forest Root Mean Squared Error (RMSE): {rmse}\")\n",
    "print(f\"Random Forest Mean Absolute Error (MAE): {mae}\")\n",
    "print(f\"Random Forest R-squared (R²): {r2}\")\n",
    "print(f\"Coefficients: {model.coef_}\")\n",
    "print(f\"Intercept: {model.intercept_}\")"
   ]
  },
  {
   "cell_type": "code",
   "execution_count": 24,
   "metadata": {},
   "outputs": [
    {
     "name": "stdout",
     "output_type": "stream",
     "text": [
      "Random Forest Mean Squared Error (MSE): 551.5880688063369\n",
      "Random Forest Root Mean Squared Error (RMSE): 23.48591213485942\n",
      "Random Forest Mean Absolute Error (MAE): 19.187919858512526\n",
      "Random Forest R-squared (R²): -0.05406678057315184\n",
      "Coefficients: [ 0.73770773  1.37481341 -0.5997328  -0.60039264 -0.32610104 -0.26425499]\n",
      "Intercept: 42.57481568546102\n"
     ]
    }
   ],
   "source": [
    "rf_model = RandomForestRegressor(n_estimators=100, random_state=42)\n",
    "\n",
    "rf_model.fit(X_train_drop, y_train_drop)\n",
    "\n",
    "y_pred_drop = rf_model.predict(X_test_drop)\n",
    "\n",
    "mse = mean_squared_error(y_test_drop, y_pred_drop)\n",
    "rmse = mse**0.5\n",
    "mae = mean_absolute_error(y_test_drop, y_pred_drop)\n",
    "r2 = r2_score(y_test_drop, y_pred_drop)\n",
    "\n",
    "print(f\"Random Forest Mean Squared Error (MSE): {mse}\")\n",
    "print(f\"Random Forest Root Mean Squared Error (RMSE): {rmse}\")\n",
    "print(f\"Random Forest Mean Absolute Error (MAE): {mae}\")\n",
    "print(f\"Random Forest R-squared (R²): {r2}\")\n",
    "print(f\"Coefficients: {model.coef_}\")\n",
    "print(f\"Intercept: {model.intercept_}\")"
   ]
  },
  {
   "cell_type": "code",
   "execution_count": 25,
   "metadata": {},
   "outputs": [
    {
     "name": "stdout",
     "output_type": "stream",
     "text": [
      "Random Forest Mean Squared Error (MSE): 616.3061845853491\n",
      "Random Forest Root Mean Squared Error (RMSE): 24.825514789936364\n",
      "Random Forest Mean Absolute Error (MAE): 20.25014325821426\n",
      "Random Forest R-squared (R²): -0.2423779029712576\n",
      "Coefficients: [ 0.73770773  1.37481341 -0.5997328  -0.60039264 -0.32610104 -0.26425499]\n",
      "Intercept: 42.57481568546102\n"
     ]
    }
   ],
   "source": [
    "import xgboost as xgb\n",
    "xgb_model = xgb.XGBRegressor(objective='reg:squarederror', n_estimators=100, random_state=42)\n",
    "\n",
    "xgb_model.fit(X_train_filla, y_train_filla)\n",
    "\n",
    "y_pred_filla = xgb_model.predict(X_test_filla)\n",
    "\n",
    "mse = mean_squared_error(y_test_filla, y_pred_filla)\n",
    "rmse = mse**0.5\n",
    "mae = mean_absolute_error(y_test_filla, y_pred_filla)\n",
    "r2 = r2_score(y_test_filla, y_pred_filla)\n",
    "\n",
    "print(f\"Random Forest Mean Squared Error (MSE): {mse}\")\n",
    "print(f\"Random Forest Root Mean Squared Error (RMSE): {rmse}\")\n",
    "print(f\"Random Forest Mean Absolute Error (MAE): {mae}\")\n",
    "print(f\"Random Forest R-squared (R²): {r2}\")\n",
    "print(f\"Coefficients: {model.coef_}\")\n",
    "print(f\"Intercept: {model.intercept_}\")"
   ]
  },
  {
   "cell_type": "code",
   "execution_count": 29,
   "metadata": {},
   "outputs": [
    {
     "name": "stdout",
     "output_type": "stream",
     "text": [
      "SVM Mean Squared Error (MSE): 494.1011854713454\n",
      "SVM Root Mean Squared Error (RMSE): 22.228386929135127\n",
      "SVM Mean Absolute Error (MAE): 18.345731199624264\n",
      "SVM R-squared (R²): 0.003968465650709074\n"
     ]
    }
   ],
   "source": [
    "from sklearn.svm import SVR\n",
    "from sklearn.metrics import mean_squared_error, mean_absolute_error, r2_score\n",
    "\n",
    "# Huấn luyện và đánh giá với bộ dữ liệu filla\n",
    "model = SVR(kernel='rbf')  # Sử dụng kernel RBF cho SVR\n",
    "model.fit(X_train_filla, y_train_filla)\n",
    "\n",
    "# Dự đoán\n",
    "y_pred_filla = model.predict(X_test_filla)\n",
    "\n",
    "# Đánh giá\n",
    "mse = mean_squared_error(y_test_filla, y_pred_filla)\n",
    "rmse = mse**0.5\n",
    "mae = mean_absolute_error(y_test_filla, y_pred_filla)\n",
    "r2 = r2_score(y_test_filla, y_pred_filla)\n",
    "\n",
    "# In kết quả\n",
    "print(f\"SVM Mean Squared Error (MSE): {mse}\")\n",
    "print(f\"SVM Root Mean Squared Error (RMSE): {rmse}\")\n",
    "print(f\"SVM Mean Absolute Error (MAE): {mae}\")\n",
    "print(f\"SVM R-squared (R²): {r2}\")\n"
   ]
  },
  {
   "cell_type": "code",
   "execution_count": 30,
   "metadata": {},
   "outputs": [
    {
     "name": "stdout",
     "output_type": "stream",
     "text": [
      "SVM Mean Squared Error (MSE): 537.4633171630409\n",
      "SVM Root Mean Squared Error (RMSE): 23.183255102833183\n",
      "SVM Mean Absolute Error (MAE): 19.36630190432988\n",
      "SVM R-squared (R²): -0.027074841600897237\n"
     ]
    }
   ],
   "source": [
    "model = SVR(kernel='rbf')  # Khởi tạo lại mô hình SVR\n",
    "model.fit(X_train_drop, y_train_drop)\n",
    "\n",
    "# Dự đoán\n",
    "y_pred_drop = model.predict(X_test_drop)\n",
    "\n",
    "# Đánh giá\n",
    "mse = mean_squared_error(y_test_drop, y_pred_drop)\n",
    "rmse = mse**0.5\n",
    "mae = mean_absolute_error(y_test_drop, y_pred_drop)\n",
    "r2 = r2_score(y_test_drop, y_pred_drop)\n",
    "\n",
    "# In kết quả\n",
    "print(f\"SVM Mean Squared Error (MSE): {mse}\")\n",
    "print(f\"SVM Root Mean Squared Error (RMSE): {rmse}\")\n",
    "print(f\"SVM Mean Absolute Error (MAE): {mae}\")\n",
    "print(f\"SVM R-squared (R²): {r2}\")"
   ]
  },
  {
   "cell_type": "code",
   "execution_count": 26,
   "metadata": {},
   "outputs": [],
   "source": [
    "import torch\n",
    "import torch.nn as nn\n",
    "import torch.optim as optim\n",
    "\n",
    "class EnergyDNN(nn.Module):\n",
    "    def __init__(self, input_size):\n",
    "        super(EnergyDNN, self).__init__()\n",
    "        self.fc1 = nn.Linear(input_size, 128)\n",
    "        self.fc2 = nn.Linear(128, 64)\n",
    "        self.fc3 = nn.Linear(64, 1)\n",
    "    \n",
    "    def forward(self, x):\n",
    "        x = torch.relu(self.fc1(x))\n",
    "        x = torch.relu(self.fc2(x))\n",
    "        x = self.fc3(x)\n",
    "        return x\n",
    "\n",
    "\n"
   ]
  },
  {
   "cell_type": "code",
   "execution_count": 27,
   "metadata": {},
   "outputs": [
    {
     "name": "stdout",
     "output_type": "stream",
     "text": [
      "Epoch [100/1000], Loss: 744.2104\n",
      "Epoch [200/1000], Loss: 523.7269\n",
      "Epoch [300/1000], Loss: 509.9045\n",
      "Epoch [400/1000], Loss: 499.0852\n",
      "Epoch [500/1000], Loss: 490.0451\n",
      "Epoch [600/1000], Loss: 482.4601\n",
      "Epoch [700/1000], Loss: 475.7729\n",
      "Epoch [800/1000], Loss: 466.1784\n",
      "Epoch [900/1000], Loss: 455.0910\n",
      "Epoch [1000/1000], Loss: 444.5632\n",
      "Random Forest Mean Squared Error (MSE): 514.1396484375\n",
      "Random Forest Root Mean Squared Error (RMSE): 22.67464828491211\n",
      "Random Forest Mean Absolute Error (MAE): 18.64913558959961\n",
      "Random Forest R-squared (R²): -0.03642594814300537\n"
     ]
    }
   ],
   "source": [
    "X_train_tensor_filla = torch.tensor(X_train_filla, dtype=torch.float32)\n",
    "X_test_tensor_filla = torch.tensor(X_test_filla, dtype=torch.float32)\n",
    "y_train_tensor_filla = torch.tensor(y_train_filla.values, dtype=torch.float32).view(-1, 1)\n",
    "y_test_tensor_filla = torch.tensor(y_test_filla.values, dtype=torch.float32).view(-1, 1)\n",
    "\n",
    "model_nn = EnergyDNN(X_train_tensor_filla.shape[1])\n",
    "optimizer = optim.Adam(model_nn.parameters(), lr=0.001)\n",
    "criterion = nn.MSELoss()\n",
    "epochs = 1000\n",
    "for epoch in range(epochs):\n",
    "    model_nn.train()\n",
    "    optimizer.zero_grad()\n",
    "    outputs = model_nn(X_train_tensor_filla)\n",
    "    loss = criterion(outputs, y_train_tensor_filla)\n",
    "    loss.backward()\n",
    "    optimizer.step()\n",
    "    if (epoch + 1) % 100 == 0:\n",
    "        print(f\"Epoch [{epoch+1}/{epochs}], Loss: {loss.item():.4f}\")\n",
    "\n",
    "model_nn.eval()\n",
    "with torch.no_grad():\n",
    "    y_pred_nn = model_nn(X_test_tensor_filla).numpy().flatten()\n",
    "\n",
    "mse = mean_squared_error(y_test_tensor_filla, y_pred_nn)\n",
    "rmse = mse**0.5\n",
    "mae = mean_absolute_error(y_test_tensor_filla, y_pred_nn)\n",
    "r2 = r2_score(y_test_tensor_filla, y_pred_nn)\n",
    "\n",
    "print(f\"Random Forest Mean Squared Error (MSE): {mse}\")\n",
    "print(f\"Random Forest Root Mean Squared Error (RMSE): {rmse}\")\n",
    "print(f\"Random Forest Mean Absolute Error (MAE): {mae}\")\n",
    "print(f\"Random Forest R-squared (R²): {r2}\")"
   ]
  },
  {
   "cell_type": "code",
   "execution_count": 28,
   "metadata": {},
   "outputs": [
    {
     "name": "stdout",
     "output_type": "stream",
     "text": [
      "Epoch [100/1000], Loss: 579.5764\n",
      "Epoch [200/1000], Loss: 518.8985\n",
      "Epoch [300/1000], Loss: 505.6950\n",
      "Epoch [400/1000], Loss: 495.8356\n",
      "Epoch [500/1000], Loss: 488.1367\n",
      "Epoch [600/1000], Loss: 481.8792\n",
      "Epoch [700/1000], Loss: 476.9413\n",
      "Epoch [800/1000], Loss: 473.0982\n",
      "Epoch [900/1000], Loss: 469.7885\n",
      "Epoch [1000/1000], Loss: 466.8362\n",
      "Random Forest Mean Squared Error (MSE): 562.5859985351562\n",
      "Random Forest Root Mean Squared Error (RMSE): 23.718894958496094\n",
      "Random Forest Mean Absolute Error (MAE): 19.602779388427734\n",
      "Random Forest R-squared (R²): -0.07508349418640137\n"
     ]
    }
   ],
   "source": [
    "X_train_tensor_drop = torch.tensor(X_train_drop, dtype=torch.float32)\n",
    "X_test_tensor_drop = torch.tensor(X_test_drop, dtype=torch.float32)\n",
    "y_train_tensor_drop = torch.tensor(y_train_drop.values, dtype=torch.float32).view(-1, 1)\n",
    "y_test_tensor_drop = torch.tensor(y_test_drop.values, dtype=torch.float32).view(-1, 1)\n",
    "\n",
    "model_nn = EnergyDNN(X_train_tensor_drop.shape[1])\n",
    "optimizer = optim.Adam(model_nn.parameters(), lr=0.001)\n",
    "criterion = nn.MSELoss()\n",
    "epochs = 1000\n",
    "for epoch in range(epochs):\n",
    "    model_nn.train()\n",
    "    optimizer.zero_grad()\n",
    "    outputs = model_nn(X_train_tensor_drop)\n",
    "    loss = criterion(outputs, y_train_tensor_drop)\n",
    "    loss.backward()\n",
    "    optimizer.step()\n",
    "    if (epoch + 1) % 100 == 0:\n",
    "        print(f\"Epoch [{epoch+1}/{epochs}], Loss: {loss.item():.4f}\")\n",
    "\n",
    "model_nn.eval()\n",
    "with torch.no_grad():\n",
    "    y_pred_nn = model_nn(X_test_tensor_drop).numpy().flatten()\n",
    "\n",
    "mse = mean_squared_error(y_test_tensor_drop, y_pred_nn)\n",
    "rmse = mse**0.5\n",
    "mae = mean_absolute_error(y_test_tensor_drop, y_pred_nn)\n",
    "r2 = r2_score(y_test_tensor_drop, y_pred_nn)\n",
    "\n",
    "print(f\"Random Forest Mean Squared Error (MSE): {mse}\")\n",
    "print(f\"Random Forest Root Mean Squared Error (RMSE): {rmse}\")\n",
    "print(f\"Random Forest Mean Absolute Error (MAE): {mae}\")\n",
    "print(f\"Random Forest R-squared (R²): {r2}\")"
   ]
  }
 ],
 "metadata": {
  "kernelspec": {
   "display_name": "Python 3",
   "language": "python",
   "name": "python3"
  },
  "language_info": {
   "codemirror_mode": {
    "name": "ipython",
    "version": 3
   },
   "file_extension": ".py",
   "mimetype": "text/x-python",
   "name": "python",
   "nbconvert_exporter": "python",
   "pygments_lexer": "ipython3",
   "version": "3.10.11"
  }
 },
 "nbformat": 4,
 "nbformat_minor": 2
}
